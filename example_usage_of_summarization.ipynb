{
  "nbformat": 4,
  "nbformat_minor": 0,
  "metadata": {
    "colab": {
      "provenance": []
    },
    "kernelspec": {
      "name": "python3",
      "display_name": "Python 3"
    },
    "language_info": {
      "name": "python"
    }
  },
  "cells": [
    {
      "cell_type": "code",
      "execution_count": 1,
      "metadata": {
        "colab": {
          "base_uri": "https://localhost:8080/"
        },
        "id": "0ut-24dy4e8_",
        "outputId": "29f5f139-ca41-4a10-c905-98a378543bbe"
      },
      "outputs": [
        {
          "output_type": "stream",
          "name": "stdout",
          "text": [
            "Cloning into 'WGSS'...\n",
            "warning: redirecting to https://github.com/FMOpee/WGSS.git/\n",
            "remote: Enumerating objects: 71, done.\u001b[K\n",
            "remote: Counting objects: 100% (71/71), done.\u001b[K\n",
            "remote: Compressing objects: 100% (51/51), done.\u001b[K\n",
            "remote: Total 71 (delta 37), reused 52 (delta 18), pack-reused 0 (from 0)\u001b[K\n",
            "Receiving objects: 100% (71/71), 325.18 KiB | 5.42 MiB/s, done.\n",
            "Resolving deltas: 100% (37/37), done.\n",
            "Processing ./WGSS\n",
            "  Preparing metadata (setup.py) ... \u001b[?25l\u001b[?25hdone\n",
            "Requirement already satisfied: nltk in /usr/local/lib/python3.10/dist-packages (from WGSS==1.0.0) (3.9.1)\n",
            "Requirement already satisfied: numpy in /usr/local/lib/python3.10/dist-packages (from WGSS==1.0.0) (1.26.4)\n",
            "Collecting fasttext (from WGSS==1.0.0)\n",
            "  Downloading fasttext-0.9.3.tar.gz (73 kB)\n",
            "\u001b[2K     \u001b[90m━━━━━━━━━━━━━━━━━━━━━━━━━━━━━━━━━━━━━━━━\u001b[0m \u001b[32m73.4/73.4 kB\u001b[0m \u001b[31m5.7 MB/s\u001b[0m eta \u001b[36m0:00:00\u001b[0m\n",
            "\u001b[?25h  Installing build dependencies ... \u001b[?25l\u001b[?25hdone\n",
            "  Getting requirements to build wheel ... \u001b[?25l\u001b[?25hdone\n",
            "  Preparing metadata (pyproject.toml) ... \u001b[?25l\u001b[?25hdone\n",
            "Requirement already satisfied: scikit-learn in /usr/local/lib/python3.10/dist-packages (from WGSS==1.0.0) (1.5.2)\n",
            "Collecting pybind11>=2.2 (from fasttext->WGSS==1.0.0)\n",
            "  Using cached pybind11-2.13.6-py3-none-any.whl.metadata (9.5 kB)\n",
            "Requirement already satisfied: setuptools>=0.7.0 in /usr/local/lib/python3.10/dist-packages (from fasttext->WGSS==1.0.0) (75.1.0)\n",
            "Requirement already satisfied: click in /usr/local/lib/python3.10/dist-packages (from nltk->WGSS==1.0.0) (8.1.7)\n",
            "Requirement already satisfied: joblib in /usr/local/lib/python3.10/dist-packages (from nltk->WGSS==1.0.0) (1.4.2)\n",
            "Requirement already satisfied: regex>=2021.8.3 in /usr/local/lib/python3.10/dist-packages (from nltk->WGSS==1.0.0) (2024.9.11)\n",
            "Requirement already satisfied: tqdm in /usr/local/lib/python3.10/dist-packages (from nltk->WGSS==1.0.0) (4.66.6)\n",
            "Requirement already satisfied: scipy>=1.6.0 in /usr/local/lib/python3.10/dist-packages (from scikit-learn->WGSS==1.0.0) (1.13.1)\n",
            "Requirement already satisfied: threadpoolctl>=3.1.0 in /usr/local/lib/python3.10/dist-packages (from scikit-learn->WGSS==1.0.0) (3.5.0)\n",
            "Using cached pybind11-2.13.6-py3-none-any.whl (243 kB)\n",
            "Building wheels for collected packages: WGSS, fasttext\n",
            "  Building wheel for WGSS (setup.py) ... \u001b[?25l\u001b[?25hdone\n",
            "  Created wheel for WGSS: filename=WGSS-1.0.0-py3-none-any.whl size=1051 sha256=e64dc3d54383bd6b94c9e8e1766e377dd3757015d7fde010d7d7c4102340a00c\n",
            "  Stored in directory: /tmp/pip-ephem-wheel-cache-7dfoufl7/wheels/c0/1c/d9/9c5bcfab809b4c33e32146a8362ae8e343276ef51239312a01\n",
            "  Building wheel for fasttext (pyproject.toml) ... \u001b[?25l\u001b[?25hdone\n",
            "  Created wheel for fasttext: filename=fasttext-0.9.3-cp310-cp310-linux_x86_64.whl size=4296186 sha256=4e029fff67fc9cc68cfa5bf4c401aec0d47eaced538e61f267f711e7baa3b5f7\n",
            "  Stored in directory: /root/.cache/pip/wheels/0d/a2/00/81db54d3e6a8199b829d58e02cec2ddb20ce3e59fad8d3c92a\n",
            "Successfully built WGSS fasttext\n",
            "Installing collected packages: pybind11, fasttext, WGSS\n",
            "Successfully installed WGSS-1.0.0 fasttext-0.9.3 pybind11-2.13.6\n"
          ]
        }
      ],
      "source": [
        "!git clone https://www.github.com/FMOpee/WGSS.git\n",
        "!pip install WGSS/\n",
        "import WGSS"
      ]
    },
    {
      "cell_type": "code",
      "source": [
        "input_document = \"\"\"ঢাকা মহানগর এলাকার সড়কে ব্যাটারিচালিত অটোরিকশার চলাচল তিন দিনের মধ্যে বন্ধ বা বিধিনিষেধ আরোপ করতে হাইকোর্টের আদেশে এক মাসের জন্য স্থিতাবস্থা বজায় রাখতে আদেশ দিয়েছেন আপিল বিভাগের চেম্বার আদালত।\n",
        "\n",
        "হাইকোর্টের আদেশ স্থগিত চেয়ে সরকারপক্ষের করা আবেদনের শুনানি নিয়ে আজ সোমবার আপিল বিভাগের চেম্বার বিচারপতি মো. রেজাউল হক এ আদেশ দেন। ফলে ঢাকা মহানগর এলাকার সড়কে ব্যাটারিচালিত অটোরিকশা আপাতত চলাচল করতে পারবে বলছেন সংশ্লিষ্ট আইনজীবী।\n",
        "\n",
        "এর আগে এক রিটের প্রাথমিক শুনানি নিয়ে ১৯ নভেম্বর হাইকোর্ট রুলসহ আদেশ দেন। আদেশে ঢাকা মহানগর এলাকার সড়কে ব্যাটারিচালিত অটোরিকশার চলাচল তিন দিনের মধ্যে বন্ধ বা বিধিনিষেধ আরোপ করতে নির্দেশ দেওয়া হয়। স্বরাষ্ট্রসচিব, পুলিশের মহাপরিদর্শক, ঢাকার জেলা প্রশাসক, দুই সিটি করপোরেশনের প্রশাসক, ঢাকা মহানগর পুলিশ কমিশনারসহ বিবাদীদের প্রতি এ নির্দেশ দেওয়া হয়।\n",
        "\n",
        "এই আদেশ স্থগিত চেয়ে সরকারপক্ষ গতকাল রোববার আপিল বিভাগে আবেদনটি করে। এই আবেদনটি আজ আপিল বিভাগের চেম্বার আদালতে শুনানির জন্য ওঠে।\n",
        "\n",
        "আদালতে রাষ্ট্রপক্ষে শুনানি করেন অ্যাটর্নি জেনারেল মো. আসাদুজ্জামান। রিট আবেদনকারীদের পক্ষে শুনানি করেন আইনজীবী এইচ এম সানজীদ সিদ্দিকী।\n",
        "\n",
        "ঢাকা মহানগরে ব্যাটারিচালিত অটোরিকশার চলাচল বন্ধ বা বিধিনিষেধ আরোপে নিষ্ক্রিয়তা চ্যালেঞ্জ করে গত ২৭ অক্টোবর রিট করা হয়। বৃহত্তর ঢাকা সিটি করপোরেশন রিকশা মালিক জোটের সভাপতি জহিরুল ইসলাম ও সাধারণ সম্পাদক মো. মোমিন আলী আবেদনকারী হয়ে এই রিট করেন। রিটের প্রাথমিক শুনানি নিয়ে ১৯ নভেম্বর হাইকোর্ট রুলসহ ওই নির্দেশ দেন।\n",
        "\n",
        "ঢাকা মহানগর এলাকার সড়কে ব্যাটারিচালিত অটোরিকশা চলাচল বন্ধে বা বিধিনিষেধ আরোপে নিষ্ক্রিয়তা কেন আইনগত কর্তৃত্ববহির্ভূত ঘোষণা করা হবে না, রুলে তা জানতে চাওয়া হয়। এসব অটোরিকশার ব্যাটারি চার্জের জন্য অবৈধ বিদ্যুৎ-সংযোগ বিচ্ছিন্ন করে যথাযথ আইনগত পদক্ষেপ নিতে কেন নির্দেশ দেওয়া হবে না, রুলে তা-ও জানতে চাওয়া হয়। স্বরাষ্ট্রসচিব, পুলিশের মহাপরিদর্শক, ঢাকার জেলা প্রশাসক, দুই সিটি করপোরেশনের প্রশাসক, মহানগর পুলিশ কমিশনারসহ বিবাদীদের চার সপ্তাহের মধ্যে রুলের জবাব দিতে বলা হয়।\n",
        "\"\"\"\n",
        "summary = WGSS.get_bengali_summary(input_document)\n",
        "print(summary)"
      ],
      "metadata": {
        "colab": {
          "base_uri": "https://localhost:8080/"
        },
        "id": "PalT6Q9p41CS",
        "outputId": "6ca83037-5545-47cf-ef3a-d639da4c0e44"
      },
      "execution_count": 2,
      "outputs": [
        {
          "output_type": "stream",
          "name": "stdout",
          "text": [
            "1. preprocessing\n",
            "2. word embedding\n",
            "    2.1. loading fasttext model\n",
            "Downloading https://dl.fbaipublicfiles.com/fasttext/vectors-crawl/cc.bn.300.bin.gz\n",
            "\n",
            "3. Sentence similarity calculation\n",
            "4. clustering\n"
          ]
        },
        {
          "output_type": "stream",
          "name": "stderr",
          "text": [
            "/usr/local/lib/python3.10/dist-packages/sklearn/manifold/_spectral_embedding.py:329: UserWarning: Graph is not fully connected, spectral embedding may not work as expected.\n",
            "  warnings.warn(\n"
          ]
        },
        {
          "output_type": "stream",
          "name": "stdout",
          "text": [
            "5. TFIDF ranking\n",
            "6. summary generation\n",
            "ঢাকা মহানগর এলাকার সড়কে ব্যাটারিচালিত অটোরিকশার চলাচল তিন দিনের মধ্যে বন্ধ বা বিধিনিষেধ আরোপ করতে হাইকোর্টের আদেশে এক মাসের জন্য স্থিতাবস্থা বজায় রাখতে আদেশ দিয়েছেন আপিল বিভাগের চেম্বার আদালত। এর আগে এক রিটের প্রাথমিক শুনানি নিয়ে ১৯ নভেম্বর হাইকোর্ট রুলসহ আদেশ দেন। আদেশে ঢাকা মহানগর এলাকার সড়কে ব্যাটারিচালিত অটোরিকশার চলাচল তিন দিনের মধ্যে বন্ধ বা বিধিনিষেধ আরোপ করতে নির্দেশ দেওয়া হয়। স্বরাষ্ট্রসচিব, পুলিশের মহাপরিদর্শক, ঢাকার জেলা প্রশাসক, দুই সিটি করপোরেশনের প্রশাসক, মহানগর পুলিশ কমিশনারসহ বিবাদীদের চার সপ্তাহের মধ্যে রুলের জবাব দিতে বলা হয়। \n"
          ]
        }
      ]
    },
    {
      "cell_type": "code",
      "source": [
        "input_document = \"\"\"\n",
        "একাত্তরে মুক্তিযুদ্ধের সময় যুদ্ধাপরাধ ও মানবতাবিরোধী অপরাধ সংঘটনের অভিযোগে করা যেসব মামলা চলছিল, তা সদ্য সংশোধিত আন্তর্জাতিক অপরাধ ট্রাইব্যুনাল আইনেও চলবে বলে জানিয়েছেন ট্রাইব্যুনালের প্রসিকিউটর গাজী মোনাওয়ার হুসাইন।\n",
        "\n",
        "আজ সোমবার দুপুরে পুরাতন হাইকোর্ট প্রাঙ্গণে অবস্থিত আন্তর্জাতিক অপরাধ ট্রাইব্যুনালে এক সংবাদ সম্মেলনে প্রসিকিউটর গাজী মোনাওয়ার এ কথা জানান।\n",
        "\n",
        "যুদ্ধাপরাধের যেসব মামলা চলমান ছিল, সংশোধিত আইন সেসবের ক্ষেত্রে প্রযোজ্য হবে কি না, সংবাদ সম্মেলনে একজন সাংবাদিক তা জানতে চান। জবাবে প্রসিকিউটর গাজী মোনাওয়ার বলেন, ‘হ্যাঁ, এখানে বলে দেওয়া হয়েছে যে এ সংশোধনী ২০০৯ সাল থেকে কার্যকর হবে।’\n",
        "\n",
        "জুলাই-আগস্টে ছাত্র-জনতার অভ্যুত্থানকালে সংঘটিত মানবতাবিরোধী অপরাধ এবং বিগত আওয়ামী লীগ সরকারের আমলে হওয়া গুম-খুনের মতো মানবতাবিরোধী অপরাধের বিচারে আন্তর্জাতিক অপরাধ ট্রাইব্যুনাল আইনে সংশোধনী এনেছে অন্তর্বর্তী সরকার। গতকাল রোববার তা গেজেট আকারে প্রকাশ করেছে আইন, বিচার ও সংসদবিষয়ক মন্ত্রণালয়।\n",
        "\n",
        "‘আন্তর্জাতিক অপরাধ (ট্রাইব্যুনাল) আইন, ১৯৭৩’ সংশোধনের পর ‘আন্তর্জাতিক অপরাধ (ট্রাইব্যুনাল) (সংশোধন) অধ্যাদেশ, ২০২৪’ করা হয়েছে। এ আইনের সংশোধন তুলে ধরতেই আজ সংবাদ সম্মেলনের আয়োজন করে ট্রাইব্যুনালের চিফ প্রসিকিউটরের দপ্তর।\n",
        "\n",
        "বিদ্যমান আইনে কী কী পরিবর্তন আনা হয়েছে, সংবাদ সম্মেলনে তা তুলে ধরেন ট্রাইব্যুনালের প্রসিকিউটর গাজী মোনাওয়ার হুসাইন।\n",
        "\n",
        "ন্যায়বিচারের স্বার্থে ও আন্তর্জাতিক মান বজায় রাখতে ওই সংশোধন আনা হয়েছে জানিয়ে গাজী মোনাওয়ার বলেন, আইনটি সংশোধন করে আন্তর্জাতিক আইনের সঙ্গে সামঞ্জস্যপূর্ণ করা হয়েছে। আইনে যেসব দুর্বলতা ছিল ও আন্তর্জাতিকভাবে যে প্রশ্নগুলো আইনটি সম্পর্কে তোলা হতো, সেসবের সমাধান করে এই সংশোধনী আনা হয়েছে।\n",
        "\n",
        "প্রসিকিউটর গাজী মোনাওয়ার বলেন, ‘ডিফেন্সকে প্রস্তুত করার জন্য আগে আসামিদের তিন সপ্তাহ সময় দেওয়া হতো, এখন তা বাড়িয়ে ছয় সপ্তাহ করা হয়েছে। আগে প্রসিকিউশন সীমিত নথিপত্র ডিফেন্সকে দিতে পারত, এখন যেকোনো নথিপত্র আদালতের কাছে চাইলে পাবে।’\n",
        "\n",
        "সংবাদ সম্মেলনে জানানো হয়, অভিযোগের শুনানির সময় ডিফেন্সকে (আসামিপক্ষ) তার সব সাক্ষীর নাম বা তালিকা দিতে হতো। এখন বিচারের যেকোনো সময় সাক্ষীকে ট্রাইব্যুনালে হাজির করতে পারবে ডিফেন্স।\n",
        "\n",
        "সশস্ত্র বাহিনীর কোনো সদস্যের (মেম্বার অব আর্মড ফোর্স) বিরুদ্ধে আগে ওই আইনে বিচার করা যেত। এখন এর পরিবর্তে মেম্বার অব ডিসিপ্লিনারি ফোর্স বা তিন বাহিনীর সঙ্গে পুলিশ, র‍্যাব, বিজিবি, গোয়েন্দা সংস্থা ও আনসার বাহিনীকেও এ আইনে বিচার করা যাবে বলে জানান গাজী মোনাওয়ার হুসাইন।\n",
        "\n",
        "প্রসিকিউটর জানান, এ আইনে রাজনৈতিক দল বা সংগঠনকে বিচারের আওতায় আনতে কোনো বিধান রাখা হয়নি, কারণ, এর জন্য অন্যান্য আইন আছে।\n",
        "\n",
        "আইনের কিছু পরিবর্তনের কারণে মামলা ঝুলে যেতে পারে, এমন সম্ভাবনার বিষয়ে এক প্রশ্নের জবাবে প্রসিকিউটর বলেন, ‘সেটির সেফগার্ড (নিরাপত্তা) এখানে রাখা হয়েছে। আসামি ও ডিফেন্সকে সব সুবিধা দিয়ে বলে দেওয়া হয়েছে যে ইনঅর্ডিনেট ডিলে (অযৌক্তিক বিলম্ব) যেন বিচারে না হয়, সে ব্যাপারে ট্রাইব্যুনাল যেকোনো সিদ্ধান্ত নিতে পারবে।’\n",
        "\n",
        "আরেক প্রশ্নের জবাবে প্রসিকিউটর জানান, যদি বিচারের কোনো পর্যায়ে বোঝা যায় যে আসামির বিরুদ্ধে অভিযোগ এ আইনের আওতায় পড়ে না, তবে ট্রাইব্যুনাল আদেশ দিয়ে তা নিয়মিত আদালতে পাঠিয়ে দিতে পারেন।\n",
        "\n",
        "ট্রাইব্যুনালের প্রসিকিউটর আবদুল্লাহ আল নোমানও সংবাদ সম্মেলনে উপস্থিত ছিলেন।\n",
        "\"\"\"\n",
        "summary = WGSS.get_bengali_summary(input_document)\n",
        "print(summary)"
      ],
      "metadata": {
        "id": "GRQq-mng6_Z6",
        "colab": {
          "base_uri": "https://localhost:8080/"
        },
        "outputId": "7632187c-03f9-4812-dde2-03b243d8821b"
      },
      "execution_count": 3,
      "outputs": [
        {
          "output_type": "stream",
          "name": "stdout",
          "text": [
            "1. preprocessing\n",
            "2. word embedding\n",
            "3. Sentence similarity calculation\n",
            "4. clustering\n",
            "5. TFIDF ranking\n",
            "6. summary generation\n",
            "একাত্তরে মুক্তিযুদ্ধের সময় যুদ্ধাপরাধ ও মানবতাবিরোধী অপরাধ সংঘটনের অভিযোগে করা যেসব মামলা চলছিল, তা সদ্য সংশোধিত আন্তর্জাতিক অপরাধ ট্রাইব্যুনাল আইনেও চলবে বলে জানিয়েছেন ট্রাইব্যুনালের প্রসিকিউটর গাজী মোনাওয়ার হুসাইন। যুদ্ধাপরাধের যেসব মামলা চলমান ছিল, সংশোধিত আইন সেসবের ক্ষেত্রে প্রযোজ্য হবে কি না, সংবাদ সম্মেলনে একজন সাংবাদিক তা জানতে চান। গতকাল রোববার তা গেজেট আকারে প্রকাশ করেছে আইন, বিচার ও সংসদবিষয়ক মন্ত্রণালয়। এ আইনের সংশোধন তুলে ধরতেই আজ সংবাদ সম্মেলনের আয়োজন করে ট্রাইব্যুনালের চিফ প্রসিকিউটরের দপ্তর। ’\n",
            "\n",
            "আরেক প্রশ্নের জবাবে প্রসিকিউটর জানান, যদি বিচারের কোনো পর্যায়ে বোঝা যায় যে আসামির বিরুদ্ধে অভিযোগ এ আইনের আওতায় পড়ে না, তবে ট্রাইব্যুনাল আদেশ দিয়ে তা নিয়মিত আদালতে পাঠিয়ে দিতে পারেন। \n"
          ]
        },
        {
          "output_type": "stream",
          "name": "stderr",
          "text": [
            "/usr/local/lib/python3.10/dist-packages/sklearn/manifold/_spectral_embedding.py:329: UserWarning: Graph is not fully connected, spectral embedding may not work as expected.\n",
            "  warnings.warn(\n"
          ]
        }
      ]
    }
  ]
}
